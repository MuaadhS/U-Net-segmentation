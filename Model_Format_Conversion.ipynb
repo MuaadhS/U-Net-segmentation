{
  "nbformat": 4,
  "nbformat_minor": 0,
  "metadata": {
    "colab": {
      "name": "Model_Format_Conversion.ipynb",
      "provenance": [],
      "authorship_tag": "ABX9TyMi55xYEMwbeHCXEgIiH+tX",
      "include_colab_link": true
    },
    "kernelspec": {
      "name": "python3",
      "display_name": "Python 3"
    },
    "language_info": {
      "name": "python"
    }
  },
  "cells": [
    {
      "cell_type": "markdown",
      "metadata": {
        "id": "view-in-github",
        "colab_type": "text"
      },
      "source": [
        "<a href=\"https://colab.research.google.com/github/MuaadhS/U-Net-segmentation/blob/main/Model_Format_Conversion.ipynb\" target=\"_parent\"><img src=\"https://colab.research.google.com/assets/colab-badge.svg\" alt=\"Open In Colab\"/></a>"
      ]
    },
    {
      "cell_type": "markdown",
      "source": [
        "Conversion of .hdf5 model to .pb format"
      ],
      "metadata": {
        "id": "pM0TpVbVsWT_"
      }
    },
    {
      "cell_type": "code",
      "execution_count": null,
      "metadata": {
        "id": "s7BCEQibsVde"
      },
      "outputs": [],
      "source": [
        "from google.colab import drive\n",
        "drive.mount('/content/drive')"
      ]
    },
    {
      "cell_type": "code",
      "source": [
        "import tensorflow as tf\n",
        "import keras"
      ],
      "metadata": {
        "id": "qLR7jMOjsm4l"
      },
      "execution_count": null,
      "outputs": []
    },
    {
      "cell_type": "code",
      "source": [
        "model = tf.keras.models.load_model('/content/drive/MyDrive/tfkeras_unet/fibroblast.hdf5') # hdf5 model path\n",
        "tf.saved_model.save(model,'/content/drive/MyDrive/irmodel/model.pb') #(obj, export_dir)"
      ],
      "metadata": {
        "id": "kcXr8_Nxsvzc"
      },
      "execution_count": null,
      "outputs": []
    },
    {
      "cell_type": "markdown",
      "source": [
        "cmd commands to convert .pb to IR format"
      ],
      "metadata": {
        "id": "JMPvfOKctCU5"
      }
    },
    {
      "cell_type": "code",
      "source": [
        "#P:\n",
        "#initialize\n",
        "cd P:\\Program Files (x86)\\Intel\\openvino_2021.4.752\\bin\n",
        "cd \\Program Files (x86)\\Intel\\openvino_2021.4.752\\bin>setupvars.bat"
      ],
      "metadata": {
        "id": "ycLqVrEUtPrR"
      },
      "execution_count": null,
      "outputs": []
    },
    {
      "cell_type": "code",
      "source": [
        "#test demo\n",
        "cd P:\\Program Files (x86)\\Intel\\openvino_2021.4.752\\deployment_tools\\demo\n",
        "cd P:\\Program Files (x86)\\Intel\\openvino_2021.4.752\\deployment_tools\\demo>demo_squeezenet_download_convert_run.bat"
      ],
      "metadata": {
        "id": "pVma4gz-t0on"
      },
      "execution_count": null,
      "outputs": []
    },
    {
      "cell_type": "code",
      "source": [
        "#install prerequisites \n",
        "# 2 options depending on the required tensorflow version - install_prerequisites_tf2.bat or install_prerequisites_tf.bat\n",
        "cd P:\\Program Files (x86)\\Intel\\openvino_2021.4.752\\deployment_tools\\model_optimizer\\install_prerequisites\n",
        "cd P:\\Program Files (x86)\\Intel\\openvino_2021.4.752\\deployment_tools\\model_optimizer\\install_prerequisites>install_prerequisites_tf2.bat"
      ],
      "metadata": {
        "id": "mWBHwvFmuDs4"
      },
      "execution_count": null,
      "outputs": []
    },
    {
      "cell_type": "code",
      "source": [
        "# conversion to IR, cd..\n",
        "\n",
        "cd P:\\Program Files (x86)\\Intel\\openvino_2021.4.752\\deployment_tools\\model_optimizer\n",
        "#python mo_tf.py --saved_model_dir <SAVED_MODEL_DIRECTORY> --output_dir <OUTPUT_MODEL_DIR>\n",
        "cd P:\\Program Files (x86)\\Intel\\openvino_2021.4.752\\deployment_tools\\model_optimizer>python mo_tf.py --saved_model_dir P:\\model.pb-20220130T125025Z-001\\model.pb --output_dir P:\\model.pb-20220130T125025Z-001\n",
        "\n"

      ],
      "metadata": {
        "id": "Jvve9VHIukW6"
      },
      "execution_count": null,
      "outputs": []
    },
    {
      "cell_type": "markdown",
      "source": [
        "references:\n",
        "\n",
        "-Tensorflow conversion:\n",
        "https://docs.openvino.ai/latest/openvino_docs_MO_DG_prepare_model_convert_model_Convert_Model_From_TensorFlow.html\n",
        "\n",
        "https://towardsdatascience.com/convert-a-tensorflow2-model-to-openvino-c498f526c60b\n",
        "\n",
        "-Model optimizer guide:\n",
        "\n",
        "https://docs.openvino.ai/latest/openvino_docs_MO_DG_Deep_Learning_Model_Optimizer_DevGuide.html"
      ],
      "metadata": {
        "id": "unz-EGQlvpvJ"
      }
    }
  ]
}
